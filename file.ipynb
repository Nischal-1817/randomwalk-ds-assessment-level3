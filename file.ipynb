{
 "cells": [
  {
   "cell_type": "markdown",
   "metadata": {},
   "source": [
    "## Nischal Pradyoth \n",
    "## CS20B1109"
   ]
  },
  {
   "cell_type": "markdown",
   "metadata": {},
   "source": [
    "Questions \n",
    "\n",
    "1) How many books do not have an original title [books.csv]?\n",
    "\n",
    "2) How many unique books are present in the dataset ? Evaluate based on the 'book_id' after removing records containing null values for original_title column in [books.csv] and corresponding records in [book_tags.csv] and [ratings.csv]\n",
    "\n",
    "3) How many unique users are present in the dataset [ratings.csv] ?\n",
    "\n",
    "4) How many unique tags are there in the dataset [book_tags.csv] ?\n",
    "\n",
    "5) Which tag_id  is the most frequently used ie. mapped with the highest number of books [book_tags.csv]  ? \n",
    "(In case of more than one tag, mention the tag id with the least numerical value)’.\n",
    "\n",
    "6) Which book (title) has the most number of counts of tags given by the user [book_tags.csv,books.csv] .\n",
    "\n",
    "7) Plot a bar chart with top 20 unique tags in descending order of ‘user records’ (the number of users tagged the given tag_id with the goodreads_book_id) [book_tags.csv]"
   ]
  },
  {
   "cell_type": "code",
   "execution_count": 15,
   "metadata": {},
   "outputs": [],
   "source": [
    "import pandas as pd \n",
    "import numpy as np \n",
    "import matplotlib.pyplot as plt "
   ]
  },
  {
   "cell_type": "code",
   "execution_count": 16,
   "metadata": {},
   "outputs": [],
   "source": [
    "books=pd.read_csv(\"books.csv\")\n",
    "book_tags=pd.read_csv(\"book_tags.csv\")\n",
    "ratings=pd.read_csv(\"ratings.csv\")"
   ]
  },
  {
   "cell_type": "markdown",
   "metadata": {},
   "source": [
    "1) How many books do not have an original title [books.csv]?"
   ]
  },
  {
   "cell_type": "code",
   "execution_count": 17,
   "metadata": {},
   "outputs": [
    {
     "data": {
      "text/plain": [
       "36"
      ]
     },
     "execution_count": 17,
     "metadata": {},
     "output_type": "execute_result"
    }
   ],
   "source": [
    "books.columns\n",
    "books['original_title'].isnull().sum()"
   ]
  },
  {
   "cell_type": "markdown",
   "metadata": {},
   "source": [
    "2) How many unique books are present in the dataset ? Evaluate based on the 'book_id' after removing records containing null values for original_title column in [books.csv] and corresponding records in [book_tags.csv] and [ratings.csv]"
   ]
  },
  {
   "cell_type": "code",
   "execution_count": 18,
   "metadata": {},
   "outputs": [
    {
     "data": {
      "text/plain": [
       "363"
      ]
     },
     "execution_count": 18,
     "metadata": {},
     "output_type": "execute_result"
    }
   ],
   "source": [
    "goodReadIds=books[books['original_title'].isnull()].goodreads_book_id\n",
    "booksIds=books[books['original_title'].isnull()].book_id\n",
    "books.dropna(subset=['original_title'],inplace=True)\n",
    "book_tags=book_tags[~book_tags['goodreads_book_id'].isin(goodReadIds)]\n",
    "ratings=ratings[~ratings['book_id'].isin(booksIds)]\n",
    "books['book_id'].nunique()"
   ]
  },
  {
   "cell_type": "markdown",
   "metadata": {},
   "source": [
    "3) How many unique users are present in the dataset [ratings.csv] ?"
   ]
  },
  {
   "cell_type": "code",
   "execution_count": 19,
   "metadata": {},
   "outputs": [
    {
     "data": {
      "text/plain": [
       "40573"
      ]
     },
     "execution_count": 19,
     "metadata": {},
     "output_type": "execute_result"
    }
   ],
   "source": [
    "ratings.columns\n",
    "len(ratings['user_id'].unique())"
   ]
  },
  {
   "cell_type": "markdown",
   "metadata": {},
   "source": [
    "4) How many unique tags are there in the dataset [book_tags.csv] ?"
   ]
  },
  {
   "cell_type": "code",
   "execution_count": 20,
   "metadata": {},
   "outputs": [
    {
     "data": {
      "text/plain": [
       "3459"
      ]
     },
     "execution_count": 20,
     "metadata": {},
     "output_type": "execute_result"
    }
   ],
   "source": [
    "len(book_tags['tag_id'].unique())"
   ]
  },
  {
   "cell_type": "markdown",
   "metadata": {},
   "source": [
    "5) Which tag_id  is the most frequently used ie. mapped with the highest number of books [book_tags.csv]  ? \n",
    "(In case of more than one tag, mention the tag id with the least numerical value)’."
   ]
  },
  {
   "cell_type": "code",
   "execution_count": 21,
   "metadata": {},
   "outputs": [
    {
     "name": "stdout",
     "output_type": "stream",
     "text": [
      "\n",
      "The final most frequently used tag_id is: 4600\n"
     ]
    }
   ],
   "source": [
    "tag_counts = book_tags.groupby('tag_id')['goodreads_book_id'].nunique()\n",
    "# print(\"\\nTag Counts:\")\n",
    "# print(tag_counts)\n",
    "\n",
    "most_frequent_tag_id = tag_counts.idxmax()\n",
    "# print(f\"\\nThe most frequently used tag_id is initially: {most_frequent_tag_id}\")\n",
    "\n",
    "# if tag_counts[most_frequent_tag_id] > 1:\n",
    "#     most_frequent_tag_id = tag_counts[tag_counts == tag_counts.max()].index.min()\n",
    "#     print(f\"After considering ties, the tag_id is: {most_frequent_tag_id}\")\n",
    "\n",
    "print(f\"\\nThe final most frequently used tag_id is: {most_frequent_tag_id}\")\n"
   ]
  },
  {
   "cell_type": "markdown",
   "metadata": {},
   "source": [
    "6) Which book (title) has the most number of counts of tags given by the user [book_tags.csv,books.csv] .\n"
   ]
  },
  {
   "cell_type": "code",
   "execution_count": 22,
   "metadata": {},
   "outputs": [
    {
     "name": "stdout",
     "output_type": "stream",
     "text": [
      "Book with the most number of counts of tags: 'Tis (Frank McCourt, #2)\n"
     ]
    }
   ],
   "source": [
    "df = pd.merge(book_tags, books, left_on='goodreads_book_id', right_on='goodreads_book_id')\n",
    "most_tags_count = df.groupby('title')['tag_id'].count().idxmax()\n",
    "print(f\"Book with the most number of counts of tags: {most_tags_count}\")"
   ]
  },
  {
   "cell_type": "markdown",
   "metadata": {},
   "source": [
    "7) Plot a bar chart with top 20 unique tags in descending order of ‘user records’ (the number of users tagged the given tag_id with the goodreads_book_id) [book_tags.csv]"
   ]
  },
  {
   "cell_type": "code",
   "execution_count": 23,
   "metadata": {},
   "outputs": [
    {
     "data": {
      "image/png": "[encoded data removed]",
      "text/plain": [
       "<Figure size 720x432 with 1 Axes>"
      ]
     },
     "metadata": {
      "needs_background": "light"
     },
     "output_type": "display_data"
    }
   ],
   "source": [
    "top_tags = book_tags.groupby('tag_id')['goodreads_book_id'].nunique().sort_values(ascending=False).head(20)\n",
    "top_tags.plot(kind='bar', figsize=(10, 6), color='skyblue')\n",
    "plt.title('Top 20 Tags by User Records')\n",
    "plt.xlabel('Tag ID')\n",
    "plt.ylabel('Number of User Records')\n",
    "plt.show()"
   ]
  },
  {
   "cell_type": "code",
   "execution_count": null,
   "metadata": {},
   "outputs": [],
   "source": []
  }
 ],
 "metadata": {
  "kernelspec": {
   "display_name": "Python 3",
   "language": "python",
   "name": "python3"
  },
  "language_info": {
   "codemirror_mode": {
    "name": "ipython",
    "version": 3
   },
   "file_extension": ".py",
   "mimetype": "text/x-python",
   "name": "python",
   "nbconvert_exporter": "python",
   "pygments_lexer": "ipython3",
   "version": "3.10.1"
  }
 },
 "nbformat": 4,
 "nbformat_minor": 2
}
